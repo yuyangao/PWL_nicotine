{
 "cells": [
  {
   "cell_type": "code",
   "execution_count": null,
   "metadata": {},
   "outputs": [],
   "source": [
    "import os\n",
    "import pandas as pd\n",
    "import pingouin as pg\n",
    "import numpy as np\n",
    "import seaborn as sns\n",
    "import matplotlib.pyplot as plt\n",
    "from tools.draw import *\n"
   ]
  },
  {
   "cell_type": "code",
   "execution_count": null,
   "metadata": {},
   "outputs": [],
   "source": [
    "def remove_outliers_3sd(data):\n",
    "    mean = np.mean(data)\n",
    "    std = np.std(data)\n",
    "    lower_bound = mean - 3 * std\n",
    "    upper_bound = mean + 3 * std\n",
    "    outliers = [i for i, val in enumerate(data) if val < lower_bound or val > upper_bound]\n",
    "    return outliers, lower_bound, upper_bound\n",
    "\n",
    "def filter_any_outliers(pre_data, post_data):\n",
    "    mean_pre = np.mean(pre_data)\n",
    "    std_pre = np.std(pre_data)\n",
    "    mean_post = np.mean(post_data)\n",
    "    std_post = np.std(post_data)\n",
    "\n",
    "    # 计算上下限\n",
    "    lower_pre = mean_pre - 3 * std_pre\n",
    "    upper_pre = mean_pre + 3 * std_pre\n",
    "    lower_post = mean_post - 3 * std_post\n",
    "    upper_post = mean_post + 3 * std_post\n",
    "\n",
    "    # 找出哪些被试有极端值 (在 pre 或 post 中超过 3 个标准差)\n",
    "    valid_indices = [i for i in range(len(pre_data)) \n",
    "                     if (lower_pre <= pre_data[i] <= upper_pre) and (lower_post <= post_data[i] <= upper_post)]\n",
    "\n",
    "    # 剔除极端值\n",
    "    filtered_pre = [pre_data[i] for i in valid_indices]\n",
    "    filtered_post = [post_data[i] for i in valid_indices]\n",
    "    \n",
    "    return filtered_pre, filtered_post"
   ]
  },
  {
   "cell_type": "markdown",
   "metadata": {},
   "source": [
    "##### best choice/emotion/MB-MF scores"
   ]
  },
  {
   "cell_type": "code",
   "execution_count": null,
   "metadata": {},
   "outputs": [],
   "source": [
    "## load datum\n",
    "emotion = pd.read_csv('datum/emotion.csv')\n",
    "best_choice = pd.read_csv('datum/bestchoice_bili.csv', encoding='ISO-8859-1')\n",
    "w_pun = pd.read_csv('datum/params.csv', encoding='cp1252')\n",
    "MB_rew = pd.read_excel('datum/scores.xlsx')"
   ]
  },
  {
   "cell_type": "code",
   "execution_count": null,
   "metadata": {},
   "outputs": [],
   "source": [
    "df_filtered = emotion[emotion['type'] == 2]\n",
    "df_filtered.describe()"
   ]
  },
  {
   "cell_type": "code",
   "execution_count": null,
   "metadata": {},
   "outputs": [],
   "source": [
    "ask_name = 'MF_pun'\n",
    "ask_type = 'ND'\n",
    "ask_bg = 'ad'\n",
    "\n",
    "typing = 1 if ask_type == 'HC' else 2\n",
    "bg = 1 if ask_bg == 'neutral' else 2\n",
    "scores = [MB_rew[ask_name][i] for i in range(len(MB_rew))if MB_rew['type'][i]==typing and  MB_rew['background'][i]==bg]\n",
    "pg.ttest(scores, 0)"
   ]
  },
  {
   "cell_type": "code",
   "execution_count": null,
   "metadata": {},
   "outputs": [],
   "source": [
    "## draw figures of emotion/best choice\n",
    "var = 'MB_rew'\n",
    "if var == 'emotion':\n",
    "       y_name = 'adversion score (a.u.)'\n",
    "elif var == 'best_choice': \n",
    "       y_name = 'best choice rate (a.u.)'\n",
    "elif var == 'w_pun' or var =='w_rew': \n",
    "       y_name = f' MB weight (w)\\n  (a.u.)'\n",
    "elif var == 'MB_pun' or var == 'MB_rew': \n",
    "       y_name = f' MB score (a.u.)'\n",
    "elif var == 'MF_pun' or var == 'MF_rew': \n",
    "       y_name = f' MF score (a.u.)'\n",
    "\n",
    "eval(var)['type'] = eval(var)['type'].replace({1: 'HC', 2: 'ND'})\n",
    "eval(var)['background'] = eval(var)['background'].replace({1: 'neutral', 2: 'adversive'})\n",
    "value = eval(var)[var]\n",
    "name = eval(var)['background']\n",
    "group = eval(var)['type']\n",
    "df_format = pd.DataFrame({'value':value, 'name':name, 'group':group})\n",
    "\n",
    "ask_group = 'HC'\n",
    "ask_type = 'adversive'\n",
    "group_len = len([df_format['value'][i] for i in range(len(df_format)) if df_format['group'][i]==ask_group and  df_format['name'][i]==ask_type])\n",
    "group_len\n",
    "# pg.anova(data=w_pun, dv='w_rew', between=['type','background'])"
   ]
  },
  {
   "cell_type": "code",
   "execution_count": null,
   "metadata": {},
   "outputs": [],
   "source": [
    "fig, ax = plt.subplots(figsize=(2, 1.8), dpi=300)\n",
    "font = {'family': 'Arial', 'weight': 'bold'}\n",
    "plt.rc('font', **font)\n",
    "color = {'neutral':'rosybrown','adversive':'slategray'}\n",
    "\n",
    "violin(ax=ax, data=df_format, x='group', y='value', hue='name',\n",
    "       order=['HC', 'ND'], hue_order=['neutral', 'adversive'],\n",
    "       palette=color)\n",
    "\n",
    "ax.get_legend().remove()\n",
    "basic_format(ax, '', f'{y_name}')\n",
    "save_path = f'config/{var}.svg'\n",
    "os.makedirs(os.path.dirname(save_path), exist_ok=True)\n",
    "plt.savefig(save_path, format='svg', transparent=True)\n",
    "plt.show()"
   ]
  },
  {
   "cell_type": "markdown",
   "metadata": {},
   "source": [
    "##### manipulation check --clue exposure"
   ]
  },
  {
   "cell_type": "code",
   "execution_count": null,
   "metadata": {},
   "outputs": [],
   "source": [
    "craving_induce = pd.read_csv('datum/craving_indu.csv', encoding='cp1252')\n",
    "\n",
    "craving_induce['type'] = craving_induce['type'].replace({1: 'HC', 2: 'ND'})\n",
    "craving_induce['time'] = craving_induce['time'].replace({1: 'pre', 2: 'post'})\n",
    "value = craving_induce['crave_score']\n",
    "name = craving_induce['time']\n",
    "group = craving_induce['type']\n",
    "\n",
    "df_format = pd.DataFrame({'value': value, 'name': name, 'group': group})\n",
    "\n",
    "pre_HC = [craving_induce['crave_score'][i] for i in range(len(craving_induce)) if craving_induce['type'][i] == 'HC' and craving_induce['time'][i] == 'pre']\n",
    "post_HC = [craving_induce['crave_score'][i] for i in range(len(craving_induce)) if craving_induce['type'][i] == 'HC' and craving_induce['time'][i] == 'post']\n",
    "pre_ND = [craving_induce['crave_score'][i] for i in range(len(craving_induce)) if craving_induce['type'][i] == 'ND' and craving_induce['time'][i] == 'pre']\n",
    "post_ND = [craving_induce['crave_score'][i] for i in range(len(craving_induce)) if craving_induce['type'][i] == 'ND' and craving_induce['time'][i] == 'post']\n",
    "\n",
    "# 剔除异常值\n",
    "pre_HC_filtered, post_HC_filtered = filter_any_outliers(pre_HC, post_HC)\n",
    "pre_ND_filtered, post_ND_filtered = filter_any_outliers(pre_ND, post_ND)\n",
    "\n",
    "ur_name = 'ND'\n",
    "timing ='pre'\n",
    "print(len(eval(f'{timing}_{ur_name}_filtered')), len(eval(f'{timing}_{ur_name}')))\n",
    "pg.ttest(eval(f'pre_{ur_name}_filtered'), eval(f'post_{ur_name}_filtered'), paired=True)\n"
   ]
  },
  {
   "cell_type": "code",
   "execution_count": null,
   "metadata": {},
   "outputs": [],
   "source": [
    "fig, ax = plt.subplots(figsize=(2, 1.8), dpi=300)\n",
    "font = {'family': 'Arial', 'weight': 'bold'}\n",
    "plt.rc('font', **font)\n",
    "color = {'pre': '#c1bdb1', 'post': '#3e5751'}\n",
    "\n",
    "violin(ax=ax, data=df_format, x='group', y='value', hue='name',\n",
    "       order=['HC', 'ND'], hue_order=['pre', 'post'],\n",
    "       palette=color)\n",
    "\n",
    "ax.get_legend().remove()\n",
    "basic_format(ax, '', f'{y_name}')\n",
    "save_path = f'config/craving_induce.svg'\n",
    "os.makedirs(os.path.dirname(save_path), exist_ok=True)\n",
    "plt.savefig(save_path, format='svg', transparent=True)\n",
    "plt.show()"
   ]
  },
  {
   "cell_type": "markdown",
   "metadata": {},
   "source": [
    "##### manipulation check --markov task"
   ]
  },
  {
   "cell_type": "code",
   "execution_count": null,
   "metadata": {},
   "outputs": [],
   "source": [
    "HC = pd.read_csv('HC_redu.csv', encoding='cp1252')\n",
    "ND = pd.read_csv('ND_redu.csv', encoding='cp1252')\n",
    "name = 'ND'\n",
    "comp_type = 'neu' \n",
    "\n",
    "indiv = eval(name)\n",
    "indiv['background'] = indiv['background'].replace({1: 'neutral', 2: 'adversive'})\n",
    "value = indiv['score']\n",
    "name = indiv['background']\n",
    "group = indiv['time']\n",
    "\n",
    "df_format = pd.DataFrame({'value': value, 'name': name, 'group': group})\n",
    "\n",
    "pre_neu = [indiv['score'][i] for i in range(len(indiv)) if indiv['background'][i] == 'neutral' and indiv['time'][i] == 'pre']\n",
    "post_neu = [indiv['score'][i] for i in range(len(indiv)) if indiv['background'][i] == 'neutral' and indiv['time'][i] == 'post']\n",
    "pre_neg = [indiv['score'][i] for i in range(len(indiv)) if indiv['background'][i] == 'adversive' and indiv['time'][i] == 'pre']\n",
    "post_neg = [indiv['score'][i] for i in range(len(indiv)) if indiv['background'][i] == 'adversive' and indiv['time'][i] == 'post']\n",
    "\n",
    "pre_filtered, post_filtered = filter_any_outliers(eval(f'pre_{comp_type}'), eval(f'post_{comp_type}'))\n",
    "\n",
    "print(len(pre_filtered),len(eval(f'pre_{comp_type}')))\n",
    "pg.ttest(pre_filtered, post_filtered, paired=True)"
   ]
  },
  {
   "cell_type": "code",
   "execution_count": null,
   "metadata": {},
   "outputs": [],
   "source": [
    "fig, ax = plt.subplots(figsize=(2, 1.8), dpi=300)\n",
    "font = {'family': 'Arial', 'weight': 'bold'}\n",
    "plt.rc('font', **font)\n",
    "color = {'pre':'#c1bdb1','post':'#3e5751'}\n",
    "violin(ax=ax, data=df_format, x='name', y='value', hue='group',\n",
    "       order=['neutral', 'adversive'], hue_order=['pre', 'post'],\n",
    "       palette=color, scatter_size=5)\n",
    "\n",
    "ax.get_legend().remove()\n",
    "basic_format(ax, '', f'{y_name}')\n",
    "save_path = f'config/{var}.svg'\n",
    "os.makedirs(os.path.dirname(save_path), exist_ok=True)\n",
    "plt.savefig(save_path, format='svg', transparent=True)\n",
    "plt.show()"
   ]
  },
  {
   "cell_type": "code",
   "execution_count": null,
   "metadata": {},
   "outputs": [],
   "source": [
    "HC = pd.read_csv('HC_redu.csv', encoding='cp1252')\n",
    "ND = pd.read_csv('ND_redu.csv', encoding='cp1252')\n",
    "name = 'HC'\n",
    "comp_type = 'neg'\n",
    "pre_neu = [eval(name)['score'][i] for i in range(len(eval(name)))if eval(name)['background'][i]==1 and eval(name)['time'][i]=='pre']\n",
    "post_neu = [eval(name)['score'][i] for i in range(len(eval(name)))if eval(name)['background'][i]==1 and eval(name)['time'][i]=='post']\n",
    "pre_neg = [eval(name)['score'][i] for i in range(len(eval(name)))if eval(name)['background'][i]==2 and eval(name)['time'][i]=='pre']\n",
    "post_neg = [eval(name)['score'][i] for i in range(len(eval(name)))if eval(name)['background'][i]==2 and eval(name)['time'][i]=='post']\n",
    "\n",
    "pg.ttest(eval(f'pre_{comp_type}'), eval(f'post_{comp_type}'),paired=True)"
   ]
  },
  {
   "cell_type": "markdown",
   "metadata": {},
   "source": [
    "##### check if there exists linear relationship betwen emotion and learning behavior"
   ]
  },
  {
   "cell_type": "code",
   "execution_count": null,
   "metadata": {},
   "outputs": [],
   "source": [
    "df = pd.DataFrame({'emotion':emotion['emotion'], 'w':best_choice['best_choice'],\n",
    "         'type':emotion['type'],'background':emotion['background'],\n",
    "         })\n",
    "\n",
    "df_filtered = df[df['type'] == 2]\n",
    "\n",
    "plt.figure(figsize=(8, 6))\n",
    "sns.regplot(x='emotion', y='w', data=df_filtered, ci=None) \n",
    "plt.title('Scatter Plot with Regression Line (Emotion vs w)', fontsize=14)\n",
    "plt.xlabel('Emotion', fontsize=12)\n",
    "plt.ylabel('w', fontsize=12)\n",
    "plt.show()\n",
    "pg.linear_regression(df_filtered[['emotion']], df_filtered['w'])"
   ]
  },
  {
   "cell_type": "markdown",
   "metadata": {},
   "source": [
    "##### draw stay probablity "
   ]
  },
  {
   "cell_type": "code",
   "execution_count": null,
   "metadata": {},
   "outputs": [],
   "source": [
    "stay_prob = pd.read_csv('stay_prob.csv')\n",
    "\n",
    "stay_prob['background'] = stay_prob['background'].replace({1:'neutral',2:'adverse'})\n",
    "stay_prob['valence'] = stay_prob['valence'].replace({1:'reward',2:'punish'})\n",
    "stay_prob['probability'] = stay_prob['probability'].replace({1:'common',2:'rare'})\n",
    "stay_prob['type'] = stay_prob['type'].replace({1:'HC',2:'ND'})\n",
    "stay_prob['result'] = np.where((stay_prob['valence'] == 'reward') & (stay_prob['result'] == 1), 'unrewarded',\n",
    "    np.where((stay_prob['valence'] == 'reward') & (stay_prob['result'] == 2), 'rewarded',\n",
    "    np.where((stay_prob['valence'] == 'punish') & (stay_prob['result'] == 1), 'unpunished',\n",
    "    np.where((stay_prob['valence'] == 'punish') & (stay_prob['result'] == 2), 'punished', stay_prob['result'])))\n",
    ")\n",
    "\n",
    "ask_group = 'HC'\n",
    "ask_valence = 'reward'\n",
    "ask_bg = 'neutral'\n",
    "order = ['rewarded','unrewarded'] if ask_valence == 'reward'else ['unpunished','punished']\n",
    "\n",
    "res_sp = [stay_prob['sp'][i] for i in range(len(stay_prob)) if stay_prob['background'][i]==ask_bg and stay_prob['valence'][i]==ask_valence and stay_prob['type'][i]==ask_group]\n",
    "res_prob = [stay_prob['probability'][i] for i in range(len(stay_prob)) if stay_prob['background'][i]==ask_bg and stay_prob['valence'][i]==ask_valence and stay_prob['type'][i]==ask_group]\n",
    "res_lastgain = [stay_prob['result'][i] for i in range(len(stay_prob)) if stay_prob['background'][i]==ask_bg and stay_prob['valence'][i]==ask_valence and stay_prob['type'][i]==ask_group]\n",
    "\n",
    "# datum's format: dataframe--cols: name(x), value(y), group\n",
    "## in need: probability(common/rare);  result(rewarded/unrewarded)\n",
    "df_format = pd.DataFrame({'value':res_sp, 'name':res_lastgain, 'group':res_prob})\n",
    "fig, ax = plt.subplots(figsize=(2, 1.5), dpi=300)\n",
    "font = {'family': 'Arial', 'weight': 'bold'}\n",
    "plt.rc('font', **font)\n",
    "color = {'common':'#9f9f9f','rare':'#cfcece'}\n",
    "bar_scat(ax=ax, data=df_format,dot_size=5, color=color,order=order)\n",
    "# ax.get_legend().remove()\n",
    "basic_format(ax, ' ', 'stay probability')\n",
    "    # 调整图例显示，避免重复\n",
    "handles, labels = ax.get_legend_handles_labels()\n",
    "ax.legend(handles[:len(set(df_format['group']))], labels[:len(set(df_format['group']))], loc='upper right')\n",
    "\n",
    "path = f'config/{ask_group}_{ask_valence}_{ask_bg}.svg'\n",
    "plt.savefig(path, format='svg', transparent=True)\n",
    "plt.show()\n"
   ]
  }
 ],
 "metadata": {
  "kernelspec": {
   "display_name": "Python 3",
   "language": "python",
   "name": "python3"
  },
  "language_info": {
   "codemirror_mode": {
    "name": "ipython",
    "version": 3
   },
   "file_extension": ".py",
   "mimetype": "text/x-python",
   "name": "python",
   "nbconvert_exporter": "python",
   "pygments_lexer": "ipython3",
   "version": "3.11.3"
  }
 },
 "nbformat": 4,
 "nbformat_minor": 2
}
